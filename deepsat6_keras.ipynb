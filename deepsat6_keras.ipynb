{
 "cells": [
  {
   "cell_type": "code",
   "execution_count": 58,
   "metadata": {},
   "outputs": [],
   "source": [
    "import tensorflow as tf\n",
    "#from tensorflow.contrib.keras.layers import Conv2D, MaxPooling2D, Flatten, Dropout\n",
    "import numpy as np\n",
    "import pandas as pd\n",
    "import copy\n",
    "from sklearn.utils import class_weight\n",
    "from sklearn.metrics import confusion_matrix\n",
    "from sklearn.preprocessing import normalize\n",
    "import seaborn as sns\n",
    "import matplotlib.pyplot as plt\n",
    "import xgboost"
   ]
  },
  {
   "cell_type": "code",
   "execution_count": 2,
   "metadata": {},
   "outputs": [
    {
     "name": "stdout",
     "output_type": "stream",
     "text": [
      "All files loaded\n"
     ]
    }
   ],
   "source": [
    "columns=['building','barren_land','trees','grassland','road','water']\n",
    "\n",
    "x_train = pd.read_csv(tf.gfile.Open('data/X_train_sat6.csv'),header=None) #This will kill the available memory on the kaggle machine :\\\n",
    "y_train = pd.read_csv(tf.gfile.Open('data/y_train_sat6.csv'),names=columns)\n",
    "#y_train['y'] = y_train.idxmax(axis=1)\n",
    "x_train = x_train.values.reshape(x_train.shape[0],28,28,4).astype(np.float32)\n",
    "#y_train = y_train.values.astype(np.float32)\n",
    "\n",
    "x_test = pd.read_csv(tf.gfile.Open('data/X_test_sat6.csv'),header=None)\n",
    "y_test = pd.read_csv(tf.gfile.Open('data/y_test_sat6.csv'),names=columns)\n",
    "y_test['y'] = y_test.idxmax(axis=1)\n",
    "x_test = x_test.values.reshape(x_test.shape[0],28,28,4).astype(np.float32)\n",
    "#y_test = y_test.values.astype(np.float32)\n",
    "\n",
    "print(\"All files loaded\")"
   ]
  },
  {
   "cell_type": "code",
   "execution_count": 3,
   "metadata": {},
   "outputs": [
    {
     "data": {
      "text/html": [
       "<div>\n",
       "<style scoped>\n",
       "    .dataframe tbody tr th:only-of-type {\n",
       "        vertical-align: middle;\n",
       "    }\n",
       "\n",
       "    .dataframe tbody tr th {\n",
       "        vertical-align: top;\n",
       "    }\n",
       "\n",
       "    .dataframe thead th {\n",
       "        text-align: right;\n",
       "    }\n",
       "</style>\n",
       "<table border=\"1\" class=\"dataframe\">\n",
       "  <thead>\n",
       "    <tr style=\"text-align: right;\">\n",
       "      <th></th>\n",
       "      <th>building</th>\n",
       "      <th>barren_land</th>\n",
       "      <th>trees</th>\n",
       "      <th>grassland</th>\n",
       "      <th>road</th>\n",
       "      <th>water</th>\n",
       "    </tr>\n",
       "  </thead>\n",
       "  <tbody>\n",
       "    <tr>\n",
       "      <th>0</th>\n",
       "      <td>0</td>\n",
       "      <td>0</td>\n",
       "      <td>1</td>\n",
       "      <td>0</td>\n",
       "      <td>0</td>\n",
       "      <td>0</td>\n",
       "    </tr>\n",
       "    <tr>\n",
       "      <th>1</th>\n",
       "      <td>0</td>\n",
       "      <td>1</td>\n",
       "      <td>0</td>\n",
       "      <td>0</td>\n",
       "      <td>0</td>\n",
       "      <td>0</td>\n",
       "    </tr>\n",
       "    <tr>\n",
       "      <th>2</th>\n",
       "      <td>0</td>\n",
       "      <td>0</td>\n",
       "      <td>0</td>\n",
       "      <td>0</td>\n",
       "      <td>0</td>\n",
       "      <td>1</td>\n",
       "    </tr>\n",
       "    <tr>\n",
       "      <th>3</th>\n",
       "      <td>0</td>\n",
       "      <td>0</td>\n",
       "      <td>0</td>\n",
       "      <td>0</td>\n",
       "      <td>0</td>\n",
       "      <td>1</td>\n",
       "    </tr>\n",
       "    <tr>\n",
       "      <th>4</th>\n",
       "      <td>0</td>\n",
       "      <td>0</td>\n",
       "      <td>0</td>\n",
       "      <td>0</td>\n",
       "      <td>0</td>\n",
       "      <td>1</td>\n",
       "    </tr>\n",
       "  </tbody>\n",
       "</table>\n",
       "</div>"
      ],
      "text/plain": [
       "   building  barren_land  trees  grassland  road  water\n",
       "0         0            0      1          0     0      0\n",
       "1         0            1      0          0     0      0\n",
       "2         0            0      0          0     0      1\n",
       "3         0            0      0          0     0      1\n",
       "4         0            0      0          0     0      1"
      ]
     },
     "execution_count": 3,
     "metadata": {},
     "output_type": "execute_result"
    }
   ],
   "source": [
    "y_train.head()"
   ]
  },
  {
   "cell_type": "code",
   "execution_count": 4,
   "metadata": {},
   "outputs": [],
   "source": [
    "y_ints = [y.argmax() for y in y_train.values]"
   ]
  },
  {
   "cell_type": "code",
   "execution_count": 5,
   "metadata": {},
   "outputs": [],
   "source": [
    "class_weights = class_weight.compute_class_weight('balanced',\n",
    "                                                 np.unique(y_ints),\n",
    "                                                 y_ints)"
   ]
  },
  {
   "cell_type": "code",
   "execution_count": 6,
   "metadata": {},
   "outputs": [
    {
     "data": {
      "text/plain": [
       "array([3.61857535, 0.73572489, 0.95055361, 1.07255646, 6.59179688,\n",
       "       0.44875843])"
      ]
     },
     "execution_count": 6,
     "metadata": {},
     "output_type": "execute_result"
    }
   ],
   "source": [
    "class_weights"
   ]
  },
  {
   "cell_type": "code",
   "execution_count": 32,
   "metadata": {},
   "outputs": [
    {
     "data": {
      "text/plain": [
       "<bound method ResourceVariable.value of <tf.Variable 'Adam_4/lr:0' shape=() dtype=float32>>"
      ]
     },
     "execution_count": 32,
     "metadata": {},
     "output_type": "execute_result"
    }
   ],
   "source": []
  },
  {
   "cell_type": "code",
   "execution_count": 22,
   "metadata": {},
   "outputs": [],
   "source": [
    "def train_model(params, optimizer='atom'):\n",
    "\n",
    "    model = tf.keras.Sequential()\n",
    "\n",
    "    # 1 convolutional layer - 32 filters, 5x5 kernel_size, padding=same, activation=relu\n",
    "    model.add(tf.keras.layers.Conv2D(32, (5,5), padding='same', activation='relu', input_shape=(28, 28, 4)))\n",
    "\n",
    "    # 2 maxpool layer - pool_size=2x2, strides=2\n",
    "    model.add(tf.keras.layers.MaxPooling2D(strides=2))\n",
    "\n",
    "    # 3 convolutional layer - 64 filters, 5x5 kernel_size, padding=same, activation=relu\n",
    "    model.add(tf.keras.layers.Conv2D(64, (5,5), padding='same', activation='relu'))\n",
    "\n",
    "    # 4 maxpool layer - pool_size=2x2, strides=2\n",
    "    model.add(tf.keras.layers.MaxPooling2D(strides=2))\n",
    "\n",
    "    # 5 flatten layer 4 output\n",
    "    model.add(tf.keras.layers.Flatten())\n",
    "\n",
    "    # 6 fully connected layer - 1024 units, relu activation\n",
    "    model.add(tf.keras.layers.Dense(1024, activation='relu'))\n",
    "\n",
    "    # 7 dropout layer\n",
    "    model.add(tf.keras.layers.Dropout(rate=0.5))\n",
    "\n",
    "    # 8 fully connected layer - 256 units, relu activation\n",
    "    model.add(tf.keras.layers.Dense(256, activation='relu'))\n",
    "\n",
    "    # 9 fully connected layer - 6 units, (softmax activation)\n",
    "    model.add(tf.keras.layers.Dense(6, activation='softmax'))\n",
    "\n",
    "    # configure optimizer\n",
    "    if optimizer == 'atom':\n",
    "        \n",
    "        atom = tf.keras.optimizers.Adam(params['lr'], beta_1=0.9, beta_2=0.999, epsilon=1e-8, decay=0.0, amsgrad=False)\n",
    "        \n",
    "    elif optimizer == 'sgd':\n",
    "        \n",
    "        sgd = tf.keras.optimizers.SGD(params['lr'], momentum=0.9, nesterov=True)\n",
    "\n",
    "    # compile model\n",
    "    model.compile(loss='categorical_crossentropy', optimizer=atom, metrics=['accuracy'])\n",
    "    \n",
    "    # fit model\n",
    "    model.fit(x_train, y_train, batch_size=32, epochs=10)\n",
    "    \n",
    "    # save model\n",
    "    title = 'baseline_model_'+optimizer+'_'+str(params['lr'])\n",
    "    model.save(title+'.h5')\n",
    "    \n",
    "    return model"
   ]
  },
  {
   "cell_type": "code",
   "execution_count": 40,
   "metadata": {},
   "outputs": [],
   "source": [
    "def load_model(filename):\n",
    "    \"\"\"Returns tuple of model object and filename\"\"\"\n",
    "    return tf.keras.models.load_model(filename), filename"
   ]
  },
  {
   "cell_type": "code",
   "execution_count": 44,
   "metadata": {
    "scrolled": false
   },
   "outputs": [],
   "source": [
    "def evaluate_cnn(model, params=None, filename=None):\n",
    "    # evaluate model\n",
    "    score = model.evaluate(x_test, y_test.loc[:,'building':'water'], batch_size=32)\n",
    "    print(\"Model accuracy = \"+str(score[1]))\n",
    "    \n",
    "    actuals = y_test.y\n",
    "    cnn_preds = model.predict(x_test)\n",
    "    \n",
    "    \n",
    "    cnn_preds_df = pd.DataFrame(cnn_preds, columns=columns)\n",
    "    cnn_preds_df['y'] = cnn_preds_df.idxmax(axis=1)\n",
    "    \n",
    "    \n",
    "    # Generate confusion matrix\n",
    "    \n",
    "    fig, ax = plt.subplots(figsize=(15, 12))\n",
    "    \n",
    "    Z = confusion_matrix(actuals, cnn_preds_df.y)\n",
    "    # Normalize across predictions\n",
    "    norm_Z = normalize(Z, axis=1)\n",
    "\n",
    "    # Generate heatmap\n",
    "    sns.heatmap(norm_Z, cmap=plt.cm.nipy_spectral, annot=True, cbar=True, xticklabels=columns, yticklabels=columns)\n",
    "\n",
    "    ## Format axes object\n",
    "    ax.xaxis.set_ticks_position('top') \n",
    "    ax.xaxis.set_label_position('top')\n",
    "    #  Format X-axis label and ticks\n",
    "    plt.xticks(fontsize=12)\n",
    "    plt.xlabel('Predicted', fontdict={'size': 18})\n",
    "\n",
    "    # Format Y-axis label\n",
    "    plt.yticks(rotation=0, fontsize=12)\n",
    "    plt.ylabel('Actual', rotation=0, fontdict={'size': 18})\n",
    "    \n",
    "    # Format Title\n",
    "    if params:\n",
    "        sub_title = \"\"\n",
    "        for key in params.keys():\n",
    "            if params[key]:\n",
    "                sub_title+=str(params[key])+'_'\n",
    "        print(sub_title)\n",
    "    \n",
    "    if filename:\n",
    "        sub_title = filename\n",
    "    ax.set_title(f'6 Landcover Classes – {sub_title}\\n\\n\\n', fontdict={'size': 18, 'weight': 'bold'});\n",
    "    fig.savefig(f'6 Landcover Classes – {sub_title}\\n\\n\\n', bbox_inches='tight', dpi=300)\n",
    "    "
   ]
  },
  {
   "cell_type": "code",
   "execution_count": 60,
   "metadata": {},
   "outputs": [],
   "source": [
    "def get_feature_layer(model, data):\n",
    "    \n",
    "    total_layers = len(model.layers)\n",
    "    \n",
    "    # 0-indexed, feature layer is 1 before end\n",
    "    fl_index = total_layers-2\n",
    "    \n",
    "    feature_layer_model = tf.keras.Model(inputs=model.input,\n",
    "                                outputs=model.get_layer(index=fl_index).output)\n",
    "    feature_layer_output = feature_layer_model.predict(data)\n",
    "    \n",
    "    return feature_layer_output"
   ]
  },
  {
   "cell_type": "code",
   "execution_count": 61,
   "metadata": {},
   "outputs": [],
   "source": [
    "def train_xgboost(x_train, y_train):\n",
    "    \n",
    "    # load trained cnn\n",
    "    cnn = load_model(\"baseline_model_atom_5.5e-5.h5\")\n",
    "    \n",
    "    # get feature layer train data\n",
    "    fl_out = get_feature_layer(cnn, x_train)\n",
    "    \n",
    "    # instantiate xgb\n",
    "    xgb_model = xgboost.XGBClassifier(silent=False,\n",
    "                                learning_rate=0.1, \n",
    "                                max_depth=6,objective='multi:softmax', \n",
    "                                n_estimators=175)\n",
    "\n",
    "    \n",
    "    xgb_model.fit(fl_out, y_train)\n",
    "\n",
    "    return xgb_model"
   ]
  },
  {
   "cell_type": "code",
   "execution_count": null,
   "metadata": {},
   "outputs": [],
   "source": [
    "def eval_cnn_xgb(xgb_model, x_test, y_test):\n",
    "\n",
    "    # load trained cnn\n",
    "    cnn = load_model(\"baseline_model_atom_5.5e-5.h5\")\n",
    "\n",
    "    # get feature layer test data\n",
    "    fl_out = get_feature_layer(cnn, x_train)\n",
    "    \n",
    "    score = xgb_model.score(fl_out, y_test)\n",
    "    \n",
    "    print('xgb score = '+str(score))\n",
    "    \n",
    "    return xgb_model\n",
    "    "
   ]
  },
  {
   "cell_type": "code",
   "execution_count": 62,
   "metadata": {},
   "outputs": [
    {
     "ename": "AttributeError",
     "evalue": "'tuple' object has no attribute 'layers'",
     "output_type": "error",
     "traceback": [
      "\u001b[0;31m------------------------------------------------------------------------\u001b[0m",
      "\u001b[0;31mAttributeError\u001b[0m                         Traceback (most recent call last)",
      "\u001b[0;32m<ipython-input-62-9fa194c6acc1>\u001b[0m in \u001b[0;36m<module>\u001b[0;34m()\u001b[0m\n\u001b[0;32m----> 1\u001b[0;31m \u001b[0mxgb\u001b[0m \u001b[0;34m=\u001b[0m \u001b[0mtrain_xgboost\u001b[0m\u001b[0;34m(\u001b[0m\u001b[0mx_train\u001b[0m\u001b[0;34m,\u001b[0m \u001b[0my_train\u001b[0m\u001b[0;34m)\u001b[0m\u001b[0;34m\u001b[0m\u001b[0m\n\u001b[0m",
      "\u001b[0;32m<ipython-input-61-e3bc71679cc1>\u001b[0m in \u001b[0;36mtrain_xgboost\u001b[0;34m(x_train, y_train)\u001b[0m\n\u001b[1;32m      5\u001b[0m \u001b[0;34m\u001b[0m\u001b[0m\n\u001b[1;32m      6\u001b[0m     \u001b[0;31m# get feature layer train data\u001b[0m\u001b[0;34m\u001b[0m\u001b[0;34m\u001b[0m\u001b[0m\n\u001b[0;32m----> 7\u001b[0;31m     \u001b[0mfl_out\u001b[0m \u001b[0;34m=\u001b[0m \u001b[0mget_feature_layer\u001b[0m\u001b[0;34m(\u001b[0m\u001b[0mcnn\u001b[0m\u001b[0;34m,\u001b[0m \u001b[0mx_train\u001b[0m\u001b[0;34m)\u001b[0m\u001b[0;34m\u001b[0m\u001b[0m\n\u001b[0m\u001b[1;32m      8\u001b[0m \u001b[0;34m\u001b[0m\u001b[0m\n\u001b[1;32m      9\u001b[0m     \u001b[0;31m# instantiate xgb\u001b[0m\u001b[0;34m\u001b[0m\u001b[0;34m\u001b[0m\u001b[0m\n",
      "\u001b[0;32m<ipython-input-60-2686f114e825>\u001b[0m in \u001b[0;36mget_feature_layer\u001b[0;34m(model, data)\u001b[0m\n\u001b[1;32m      1\u001b[0m \u001b[0;32mdef\u001b[0m \u001b[0mget_feature_layer\u001b[0m\u001b[0;34m(\u001b[0m\u001b[0mmodel\u001b[0m\u001b[0;34m,\u001b[0m \u001b[0mdata\u001b[0m\u001b[0;34m)\u001b[0m\u001b[0;34m:\u001b[0m\u001b[0;34m\u001b[0m\u001b[0m\n\u001b[1;32m      2\u001b[0m \u001b[0;34m\u001b[0m\u001b[0m\n\u001b[0;32m----> 3\u001b[0;31m     \u001b[0mtotal_layers\u001b[0m \u001b[0;34m=\u001b[0m \u001b[0mlen\u001b[0m\u001b[0;34m(\u001b[0m\u001b[0mmodel\u001b[0m\u001b[0;34m.\u001b[0m\u001b[0mlayers\u001b[0m\u001b[0;34m)\u001b[0m\u001b[0;34m\u001b[0m\u001b[0m\n\u001b[0m\u001b[1;32m      4\u001b[0m \u001b[0;34m\u001b[0m\u001b[0m\n\u001b[1;32m      5\u001b[0m     \u001b[0;31m# 0-indexed, feature layer is 1 before end\u001b[0m\u001b[0;34m\u001b[0m\u001b[0;34m\u001b[0m\u001b[0m\n",
      "\u001b[0;31mAttributeError\u001b[0m: 'tuple' object has no attribute 'layers'"
     ]
    }
   ],
   "source": [
    "xgb = train_xgboost(x_train, y_train)"
   ]
  },
  {
   "cell_type": "code",
   "execution_count": 45,
   "metadata": {},
   "outputs": [
    {
     "name": "stdout",
     "output_type": "stream",
     "text": [
      "81000/81000 [==============================] - 12s 147us/step\n",
      "Model accuracy = 0.9936049382716049\n"
     ]
    },
    {
     "data": {
      "image/png": "[encoded data removed]",
      "text/plain": [
       "<matplotlib.figure.Figure at 0x7fd84be03e80>"
      ]
     },
     "metadata": {},
     "output_type": "display_data"
    }
   ],
   "source": [
    "evaluate_model(model=best[0], filename=best[1])"
   ]
  },
  {
   "cell_type": "markdown",
   "metadata": {},
   "source": []
  },
  {
   "cell_type": "code",
   "execution_count": 55,
   "metadata": {},
   "outputs": [
    {
     "data": {
      "text/plain": [
       "9"
      ]
     },
     "execution_count": 55,
     "metadata": {},
     "output_type": "execute_result"
    }
   ],
   "source": [
    "len(model.layers)"
   ]
  },
  {
   "cell_type": "code",
   "execution_count": 57,
   "metadata": {},
   "outputs": [
    {
     "ename": "IndexError",
     "evalue": "list index out of range",
     "output_type": "error",
     "traceback": [
      "\u001b[0;31m------------------------------------------------------------------------\u001b[0m",
      "\u001b[0;31mIndexError\u001b[0m                             Traceback (most recent call last)",
      "\u001b[0;32m<ipython-input-57-0eb32d46b37a>\u001b[0m in \u001b[0;36m<module>\u001b[0;34m()\u001b[0m\n\u001b[0;32m----> 1\u001b[0;31m \u001b[0mmodel\u001b[0m\u001b[0;34m.\u001b[0m\u001b[0mlayers\u001b[0m\u001b[0;34m[\u001b[0m\u001b[0;36m9\u001b[0m\u001b[0;34m]\u001b[0m\u001b[0;34m\u001b[0m\u001b[0m\n\u001b[0m",
      "\u001b[0;31mIndexError\u001b[0m: list index out of range"
     ]
    }
   ],
   "source": [
    "model.layers[]"
   ]
  },
  {
   "cell_type": "code",
   "execution_count": null,
   "metadata": {},
   "outputs": [],
   "source": []
  },
  {
   "cell_type": "code",
   "execution_count": null,
   "metadata": {},
   "outputs": [],
   "source": []
  },
  {
   "cell_type": "markdown",
   "metadata": {},
   "source": [
    "unweighted scores\n",
    "\n",
    "sdg\n",
    "\n",
    "[0.048675902403128996, 0.9827654320987654]\n",
    "\n",
    "atom 1e-5\n",
    "\n",
    "[0.03177257826200788, 0.9895308641975309]\n",
    "\n",
    "atom 1e-6\n",
    "\n",
    "[0.06629317183666403, 0.9753950617283951]\n",
    "\n",
    "atom 5e-6\n",
    "\n",
    "[0.04309150624197965, 0.9848888888888889]\n",
    "\n",
    "atom 5e-5\n",
    "\n",
    "[0.027689415797445018, 0.9914691358024691]\n",
    "\n",
    "atom 5e-5 ams\n",
    "\n",
    "[0.02677221671924655, 0.990358024691358]\n",
    "\n",
    "atom 7.5e-5\n",
    "\n",
    "(stuck at .54)\n",
    "\n",
    "atom 7e-5\n",
    "\n",
    "(stuck at .54)\n",
    "\n",
    "atom 6e-5\n",
    "\n",
    "[0.035970908765554074, 0.9880740740740741]\n",
    "\n",
    "atom 5.5e-5\n",
    "\n",
    "[0.019541240541552478, 0.9936049382716049]\n",
    "\n",
    "atom 5.3e-5\n",
    "\n",
    "[0.028512682099493404, 0.9908271604938271]\n",
    "\n",
    "atom 5.7e-5\n",
    "\n",
    "[0.024852997347159324, 0.9914320987654321]\n",
    "\n",
    "atom 5.6e-5\n",
    "\n",
    "(converges at .59)\n",
    "\n",
    "atom 5.5e-4 v2\n",
    "\n",
    "[0.02222598712769814, 0.9926296296296296]\n"
   ]
  },
  {
   "cell_type": "code",
   "execution_count": null,
   "metadata": {},
   "outputs": [],
   "source": []
  }
 ],
 "metadata": {
  "kernelspec": {
   "display_name": "Python 3",
   "language": "python",
   "name": "python3"
  },
  "language_info": {
   "codemirror_mode": {
    "name": "ipython",
    "version": 3
   },
   "file_extension": ".py",
   "mimetype": "text/x-python",
   "name": "python",
   "nbconvert_exporter": "python",
   "pygments_lexer": "ipython3",
   "version": "3.6.4"
  }
 },
 "nbformat": 4,
 "nbformat_minor": 2
}
